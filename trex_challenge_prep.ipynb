{
 "cells": [
  {
   "cell_type": "markdown",
   "metadata": {},
   "source": [
    "___\n",
    "\n",
    "TrexBio Data Challenge Preparation\n",
    "\n",
    "#### Rick Fontenot\n",
    "___\n",
    "\n",
    "The challenge details are not known, but TrexBio provided the following topics to prepare for the challenge:\n",
    "\n",
    "___\n",
    "The data challenge will be a preliminary analysis of network data and preprocessing techniques.\n",
    "\n",
    "Things to familiarize yourself with in advance:\n",
    "* STRINGdb \n",
    "* OpenTargets Genetics \n",
    "* The relationship between a gene and a protein \n",
    "* Why relationships between proteins are relevant to biology \n",
    "* networkx or another graph analysis library \n",
    "* [karateclub](https://github.com/benedekrozemberczki/karateclub) or another graph embedding library \n",
    "* pandas/numpy \n",
    "* plotly express or another visualization library\n",
    "___\n"
   ]
  },
  {
   "cell_type": "markdown",
   "metadata": {},
   "source": [
    "### Relationship between a gene and a protein\n",
    "___\n",
    "\n",
    "Genes contain the information to make proteins. The nucleus of a cell contains DNA and through the **Transcription** process, the DNA is transferred to a similar molecule called RNA. The type of RNA that contains the information needed to make protein is called a messenger RNA or mRNA and it carries the message from the DNA out of the nucleus into the cytoplasm.\n",
    "\n",
    "The second step in the production of proteins is a process called **Translation** and it takes place in the cytoplasm. The mRNA interacts with a specialised complex known as a ribosome that reads the sequence of the mRNA bases. Each sequence has three bases called a codon, which codes for one particular amino acid. A transfer RNA or tRNA assembles the protein, one amino acid at a time. This continues until the ribosome meets a “stop” codon.\n",
    "\n",
    "This notebook has an example of how a DNA sequence for Covid-19 can be transcribed into mRNA, translated into amino acid sequences, then filtered by length to identify amino acids that could be associated with proteins. The sequences can be compared to a database using BLAST (basic local alignment search tool) to identify proteins associated with the amino strings\n",
    "\n",
    "https://www.kaggle.com/code/amiiiney/covid-19-proteins-identification-with-biopython\n",
    "\n",
    "___"
   ]
  },
  {
   "cell_type": "markdown",
   "metadata": {},
   "source": [
    "### PPI - protein-protein interactions and relationships\n",
    "___\n",
    "\n",
    "Proteins facilitate diverse biological processes at both cellular and systemic levels. Molecular processes are regulated via a large number of protein components organized by Protein-Protein Interactions (PPIs), which refer to intentional physical contacts established between two or more proteins and resulted in specific biochemical events.\n",
    "\n",
    "In humans, disruptions of the normal patterns of PPIs and protein complexes can be causative or indicative of a disease state. The major biomedical goal of identifying and studying PPI networks in disease states is the development of therapies targeting interactions that are functionally relevant to disease progression and patient outcomes. \n",
    "\n",
    "Another long-term clinical goal would be the identification of disease-specific patterns of PPIs, which could serve as disease- or treatment-responsive biomarkers whose selective measurement leads to improved diagnostics or prognostics for common human disorders.\n",
    "\n",
    "These are some of the resources that were helpful on this topic:\n",
    "https://www.creative-proteomics.com/services/protein-protein-interaction-networks.htm\n",
    "https://genomemedicine.biomedcentral.com/articles/10.1186/gm441\n",
    "\n",
    "___"
   ]
  },
  {
   "cell_type": "markdown",
   "metadata": {},
   "source": [
    "### Open Targets Genetics\n",
    "___\n",
    "\n",
    "Open Targets is an innovative, large-scale, multi-year, public-private partnership that uses human genetics and genomics data for systematic drug target identification and prioritisation.\n",
    "\n",
    "The Open Targets Platform can be used to find targets for a given disease\n",
    "https://platform.opentargets.org/\n",
    "\n",
    "The Open Targets Portal can be used to discover genetic evidence for targets\n",
    "https://genetics.opentargets.org/\n",
    "\n",
    "While you can use these sites to search for targets, diseases, and drugs, there is also an API and google bigquery can be used to accss the data.\n",
    "\n",
    "Below I setup and test a query of target proteins associated with a specific disease\n",
    "___"
   ]
  },
  {
   "cell_type": "code",
   "execution_count": 1,
   "metadata": {},
   "outputs": [],
   "source": [
    "# Imports\n",
    "import matplotlib.pyplot as plt\n",
    "import seaborn as sns\n",
    "import numpy as np\n",
    "import pandas as pd\n",
    "from datetime import date\n",
    "import sklearn\n",
    "pd.set_option(\"display.max_columns\", None, \"display.max_rows\", None)"
   ]
  },
  {
   "cell_type": "markdown",
   "metadata": {},
   "source": [
    "#### Create a function to query open targets genetics to return a list of targets associated with a disease"
   ]
  },
  {
   "cell_type": "code",
   "execution_count": 2,
   "metadata": {},
   "outputs": [],
   "source": [
    "def get_disease_associations(disease):\n",
    "    query=f\"\"\"\n",
    "    SELECT\n",
    "        associations.targetId AS target_id,\n",
    "        targets.approvedSymbol AS target_approved_symbol,\n",
    "        associations.diseaseId AS disease_id,\n",
    "        diseases.name AS disease_name,\n",
    "        associations.score AS overall_association_score\n",
    "    FROM\n",
    "        `open-targets-prod.platform.associationByOverallDirect` AS associations\n",
    "    JOIN\n",
    "        `open-targets-prod.platform.diseases` AS diseases\n",
    "    ON\n",
    "        associations.diseaseId = diseases.id\n",
    "    JOIN\n",
    "        `open-targets-prod.platform.targets` AS targets\n",
    "    ON\n",
    "        associations.targetId = targets.id\n",
    "    WHERE\n",
    "        associations.diseaseId='{disease}'\n",
    "    ORDER BY\n",
    "    associations.score DESC\n",
    "    \"\"\"\n",
    "\n",
    "    from google.cloud import bigquery\n",
    "\n",
    "    import os\n",
    "    os.environ[\"GOOGLE_APPLICATION_CREDENTIALS\"] = \"/Users/rickfontenot/Dropbox/Mac/Documents/Job Applications/2022-08-31 TRexBio/preparation/trexbio-ae795efe77c6.json\"\n",
    "\n",
    "    # Construct a BigQuery client object.\n",
    "    client = bigquery.Client()\n",
    "\n",
    "    query_job = client.query(query)  # Make an API request.\n",
    "\n",
    "    dataframe = (query_job.result().to_dataframe())\n",
    "\n",
    "    return dataframe"
   ]
  },
  {
   "cell_type": "code",
   "execution_count": 3,
   "metadata": {},
   "outputs": [],
   "source": [
    "psoriasis_associations = get_disease_associations('EFO_0000676')"
   ]
  },
  {
   "cell_type": "code",
   "execution_count": 4,
   "metadata": {},
   "outputs": [
    {
     "name": "stdout",
     "output_type": "stream",
     "text": [
      "(5749, 5)\n"
     ]
    },
    {
     "data": {
      "text/html": [
       "<div>\n",
       "<style scoped>\n",
       "    .dataframe tbody tr th:only-of-type {\n",
       "        vertical-align: middle;\n",
       "    }\n",
       "\n",
       "    .dataframe tbody tr th {\n",
       "        vertical-align: top;\n",
       "    }\n",
       "\n",
       "    .dataframe thead th {\n",
       "        text-align: right;\n",
       "    }\n",
       "</style>\n",
       "<table border=\"1\" class=\"dataframe\">\n",
       "  <thead>\n",
       "    <tr style=\"text-align: right;\">\n",
       "      <th></th>\n",
       "      <th>target_id</th>\n",
       "      <th>target_approved_symbol</th>\n",
       "      <th>disease_id</th>\n",
       "      <th>disease_name</th>\n",
       "      <th>overall_association_score</th>\n",
       "    </tr>\n",
       "  </thead>\n",
       "  <tbody>\n",
       "    <tr>\n",
       "      <th>0</th>\n",
       "      <td>ENSG00000141527</td>\n",
       "      <td>CARD14</td>\n",
       "      <td>EFO_0000676</td>\n",
       "      <td>psoriasis</td>\n",
       "      <td>0.811985</td>\n",
       "    </tr>\n",
       "    <tr>\n",
       "      <th>1</th>\n",
       "      <td>ENSG00000113302</td>\n",
       "      <td>IL12B</td>\n",
       "      <td>EFO_0000676</td>\n",
       "      <td>psoriasis</td>\n",
       "      <td>0.712952</td>\n",
       "    </tr>\n",
       "    <tr>\n",
       "      <th>2</th>\n",
       "      <td>ENSG00000065989</td>\n",
       "      <td>PDE4A</td>\n",
       "      <td>EFO_0000676</td>\n",
       "      <td>psoriasis</td>\n",
       "      <td>0.646459</td>\n",
       "    </tr>\n",
       "    <tr>\n",
       "      <th>3</th>\n",
       "      <td>ENSG00000110944</td>\n",
       "      <td>IL23A</td>\n",
       "      <td>EFO_0000676</td>\n",
       "      <td>psoriasis</td>\n",
       "      <td>0.641443</td>\n",
       "    </tr>\n",
       "    <tr>\n",
       "      <th>4</th>\n",
       "      <td>ENSG00000232810</td>\n",
       "      <td>TNF</td>\n",
       "      <td>EFO_0000676</td>\n",
       "      <td>psoriasis</td>\n",
       "      <td>0.637236</td>\n",
       "    </tr>\n",
       "  </tbody>\n",
       "</table>\n",
       "</div>"
      ],
      "text/plain": [
       "         target_id target_approved_symbol   disease_id disease_name  \\\n",
       "0  ENSG00000141527                 CARD14  EFO_0000676    psoriasis   \n",
       "1  ENSG00000113302                  IL12B  EFO_0000676    psoriasis   \n",
       "2  ENSG00000065989                  PDE4A  EFO_0000676    psoriasis   \n",
       "3  ENSG00000110944                  IL23A  EFO_0000676    psoriasis   \n",
       "4  ENSG00000232810                    TNF  EFO_0000676    psoriasis   \n",
       "\n",
       "   overall_association_score  \n",
       "0                   0.811985  \n",
       "1                   0.712952  \n",
       "2                   0.646459  \n",
       "3                   0.641443  \n",
       "4                   0.637236  "
      ]
     },
     "execution_count": 4,
     "metadata": {},
     "output_type": "execute_result"
    }
   ],
   "source": [
    "print(psoriasis_associations.shape)\n",
    "psoriasis_associations.head()"
   ]
  },
  {
   "cell_type": "markdown",
   "metadata": {},
   "source": [
    "You can search for diseases here:\n",
    "https://platform.opentargets.org/disease/EFO_0000183/associations\n",
    "\n",
    "For instance a search for hodgkins lymphoma returned EFO_0000183\n",
    "\n",
    "Let's try function again as double check:"
   ]
  },
  {
   "cell_type": "code",
   "execution_count": 5,
   "metadata": {},
   "outputs": [
    {
     "name": "stdout",
     "output_type": "stream",
     "text": [
      "(1529, 5)\n"
     ]
    },
    {
     "data": {
      "text/html": [
       "<div>\n",
       "<style scoped>\n",
       "    .dataframe tbody tr th:only-of-type {\n",
       "        vertical-align: middle;\n",
       "    }\n",
       "\n",
       "    .dataframe tbody tr th {\n",
       "        vertical-align: top;\n",
       "    }\n",
       "\n",
       "    .dataframe thead th {\n",
       "        text-align: right;\n",
       "    }\n",
       "</style>\n",
       "<table border=\"1\" class=\"dataframe\">\n",
       "  <thead>\n",
       "    <tr style=\"text-align: right;\">\n",
       "      <th></th>\n",
       "      <th>target_id</th>\n",
       "      <th>target_approved_symbol</th>\n",
       "      <th>disease_id</th>\n",
       "      <th>disease_name</th>\n",
       "      <th>overall_association_score</th>\n",
       "    </tr>\n",
       "  </thead>\n",
       "  <tbody>\n",
       "    <tr>\n",
       "      <th>0</th>\n",
       "      <td>ENSG00000258947</td>\n",
       "      <td>TUBB3</td>\n",
       "      <td>EFO_0000183</td>\n",
       "      <td>Hodgkins lymphoma</td>\n",
       "      <td>0.594023</td>\n",
       "    </tr>\n",
       "    <tr>\n",
       "      <th>1</th>\n",
       "      <td>ENSG00000131747</td>\n",
       "      <td>TOP2A</td>\n",
       "      <td>EFO_0000183</td>\n",
       "      <td>Hodgkins lymphoma</td>\n",
       "      <td>0.592105</td>\n",
       "    </tr>\n",
       "    <tr>\n",
       "      <th>2</th>\n",
       "      <td>ENSG00000196230</td>\n",
       "      <td>TUBB</td>\n",
       "      <td>EFO_0000183</td>\n",
       "      <td>Hodgkins lymphoma</td>\n",
       "      <td>0.590789</td>\n",
       "    </tr>\n",
       "    <tr>\n",
       "      <th>3</th>\n",
       "      <td>ENSG00000137285</td>\n",
       "      <td>TUBB2B</td>\n",
       "      <td>EFO_0000183</td>\n",
       "      <td>Hodgkins lymphoma</td>\n",
       "      <td>0.590235</td>\n",
       "    </tr>\n",
       "    <tr>\n",
       "      <th>4</th>\n",
       "      <td>ENSG00000101162</td>\n",
       "      <td>TUBB1</td>\n",
       "      <td>EFO_0000183</td>\n",
       "      <td>Hodgkins lymphoma</td>\n",
       "      <td>0.590235</td>\n",
       "    </tr>\n",
       "  </tbody>\n",
       "</table>\n",
       "</div>"
      ],
      "text/plain": [
       "         target_id target_approved_symbol   disease_id       disease_name  \\\n",
       "0  ENSG00000258947                  TUBB3  EFO_0000183  Hodgkins lymphoma   \n",
       "1  ENSG00000131747                  TOP2A  EFO_0000183  Hodgkins lymphoma   \n",
       "2  ENSG00000196230                   TUBB  EFO_0000183  Hodgkins lymphoma   \n",
       "3  ENSG00000137285                 TUBB2B  EFO_0000183  Hodgkins lymphoma   \n",
       "4  ENSG00000101162                  TUBB1  EFO_0000183  Hodgkins lymphoma   \n",
       "\n",
       "   overall_association_score  \n",
       "0                   0.594023  \n",
       "1                   0.592105  \n",
       "2                   0.590789  \n",
       "3                   0.590235  \n",
       "4                   0.590235  "
      ]
     },
     "execution_count": 5,
     "metadata": {},
     "output_type": "execute_result"
    }
   ],
   "source": [
    "hodgkins_associations = get_disease_associations('EFO_0000183')\n",
    "print(hodgkins_associations.shape)\n",
    "hodgkins_associations.head()"
   ]
  },
  {
   "cell_type": "markdown",
   "metadata": {},
   "source": [
    "### STRINGdb\n",
    "___\n",
    "\n",
    "STRING is a database of known and predicted protein-protein interactions. The interactions include direct (physical) and indirect (functional) associations; they stem from computational prediction, from knowledge transfer between organisms, and from interactions aggregated from other (primary) databases.\n",
    "\n",
    "The STRING documentation gives details about using the REST API and has lots of examples, but the basic call for gathering network information for multiple proteins looks like this:\n",
    "https://string-db.org/api/[output-format]/network?identifiers=[your_identifiers]&[optional_parameters]\n",
    "\n",
    "Below I'll test out a query to get the PPI scores for target protiens identified in the open targets data collected above.\n",
    "\n",
    "Some resources I found helpful:\n",
    "https://string-db.org/cgi/help?sessionId=bbzQfhU4eZmR\n",
    "https://towardsdatascience.com/visualizing-protein-networks-in-python-58a9b51be9d5\n",
    "\n",
    "___"
   ]
  },
  {
   "cell_type": "markdown",
   "metadata": {},
   "source": [
    "#### Create a PPI function to query data from stringdb to return protein-protein interaction scores"
   ]
  },
  {
   "cell_type": "code",
   "execution_count": 6,
   "metadata": {},
   "outputs": [],
   "source": [
    "def get_ppi(protein_list, species):\n",
    "    ### The required libraries and packages ###\n",
    "    import requests\n",
    "    import pandas as pd\n",
    "    import numpy as np\n",
    "    proteins = '%0d'.join(protein_list)\n",
    "    url = 'https://string-db.org/api/tsv/network?identifiers=' + proteins + '&species=' + species\n",
    "    r = requests.get(url)\n",
    "    lines = r.text.split('\\n') # pull the text from the response object and split based on new lines\n",
    "    data = [l.split('\\t') for l in lines] # split each line into its components based on tabs\n",
    "    # convert to dataframe using the first row as the column names; drop empty, final row\n",
    "    df = pd.DataFrame(data[1:-1], columns = data[0])\n",
    "    df.drop_duplicates(inplace=True)\n",
    "    interactions = df[['preferredName_A', 'preferredName_B', 'score']] \n",
    "    return interactions\n",
    "    "
   ]
  },
  {
   "cell_type": "markdown",
   "metadata": {},
   "source": [
    "Test PPI function using candidate protiens from the open targets hodgkins deisease"
   ]
  },
  {
   "cell_type": "code",
   "execution_count": 7,
   "metadata": {},
   "outputs": [
    {
     "name": "stdout",
     "output_type": "stream",
     "text": [
      "['TUBB3', 'TOP2A', 'TUBB', 'TUBB2B', 'TUBB1', 'TUBB4B', 'TUBB2A', 'TUBB6', 'TUBB8', 'TUBB4A']\n"
     ]
    }
   ],
   "source": [
    "top10hodgkins = list(hodgkins_associations.target_approved_symbol[0:10])\n",
    "print(top10hodgkins)"
   ]
  },
  {
   "cell_type": "code",
   "execution_count": 8,
   "metadata": {},
   "outputs": [
    {
     "data": {
      "text/html": [
       "<div>\n",
       "<style scoped>\n",
       "    .dataframe tbody tr th:only-of-type {\n",
       "        vertical-align: middle;\n",
       "    }\n",
       "\n",
       "    .dataframe tbody tr th {\n",
       "        vertical-align: top;\n",
       "    }\n",
       "\n",
       "    .dataframe thead th {\n",
       "        text-align: right;\n",
       "    }\n",
       "</style>\n",
       "<table border=\"1\" class=\"dataframe\">\n",
       "  <thead>\n",
       "    <tr style=\"text-align: right;\">\n",
       "      <th></th>\n",
       "      <th>preferredName_A</th>\n",
       "      <th>preferredName_B</th>\n",
       "      <th>score</th>\n",
       "    </tr>\n",
       "  </thead>\n",
       "  <tbody>\n",
       "    <tr>\n",
       "      <th>0</th>\n",
       "      <td>TUBB1</td>\n",
       "      <td>TUBB2B</td>\n",
       "      <td>0.448</td>\n",
       "    </tr>\n",
       "    <tr>\n",
       "      <th>2</th>\n",
       "      <td>TUBB1</td>\n",
       "      <td>TUBB8</td>\n",
       "      <td>0.9</td>\n",
       "    </tr>\n",
       "    <tr>\n",
       "      <th>4</th>\n",
       "      <td>TUBB2B</td>\n",
       "      <td>TUBB4A</td>\n",
       "      <td>0.441</td>\n",
       "    </tr>\n",
       "    <tr>\n",
       "      <th>6</th>\n",
       "      <td>TUBB2B</td>\n",
       "      <td>TUBB3</td>\n",
       "      <td>0.496</td>\n",
       "    </tr>\n",
       "    <tr>\n",
       "      <th>8</th>\n",
       "      <td>TUBB2B</td>\n",
       "      <td>TUBB2A</td>\n",
       "      <td>0.902</td>\n",
       "    </tr>\n",
       "  </tbody>\n",
       "</table>\n",
       "</div>"
      ],
      "text/plain": [
       "  preferredName_A preferredName_B  score\n",
       "0           TUBB1          TUBB2B  0.448\n",
       "2           TUBB1           TUBB8    0.9\n",
       "4          TUBB2B          TUBB4A  0.441\n",
       "6          TUBB2B           TUBB3  0.496\n",
       "8          TUBB2B          TUBB2A  0.902"
      ]
     },
     "execution_count": 8,
     "metadata": {},
     "output_type": "execute_result"
    }
   ],
   "source": [
    "humans = '9606'\n",
    "\n",
    "hodgkins_ppi = get_ppi(top10hodgkins, humans)\n",
    "hodgkins_ppi.head()"
   ]
  },
  {
   "cell_type": "markdown",
   "metadata": {},
   "source": [
    "### NetworkX\n",
    "___\n",
    "\n",
    "NetworkX is a Python package for the creation, manipulation, and study of the structure, dynamics, and functions of complex networks. With NetworkX you can load and store networks in standard and nonstandard data formats, generate many types of random and classic networks, analyze network structure, build network models, design new network algorithms, draw networks, and much more.\n",
    "\n",
    "Below, I will create a graph network with networkX using the PPI data obtained from STRINGdb above then visualize the network using matplotlib.\n",
    "\n",
    "Some resources:\n",
    "https://networkx.org/documentation/stable/index.html#\n",
    "\n",
    "___"
   ]
  },
  {
   "cell_type": "markdown",
   "metadata": {},
   "source": [
    "#### Define function to convert ppi table into graph network with weighted edges"
   ]
  },
  {
   "cell_type": "code",
   "execution_count": 9,
   "metadata": {},
   "outputs": [],
   "source": [
    "def ppi_to_graph(interactions):\n",
    "    import networkx as nx\n",
    "    G=nx.Graph(name='Protein Interaction Graph')\n",
    "    interactions = np.array(interactions)\n",
    "    for i in range(len(interactions)):\n",
    "        interaction = interactions[i]\n",
    "        a = interaction[0] # protein a node\n",
    "        b = interaction[1] # protein b node\n",
    "        w = float(interaction[2]) # score as weighted edge where high scores = low weight\n",
    "        G.add_weighted_edges_from([(a,b,w)]) # add weighted edge to graph\n",
    "    return G"
   ]
  },
  {
   "cell_type": "code",
   "execution_count": 10,
   "metadata": {},
   "outputs": [
    {
     "data": {
      "text/plain": [
       "<networkx.classes.graph.Graph at 0x17591b400>"
      ]
     },
     "execution_count": 10,
     "metadata": {},
     "output_type": "execute_result"
    }
   ],
   "source": [
    "hodgkins_graph = ppi_to_graph(hodgkins_ppi)\n",
    "hodgkins_graph"
   ]
  },
  {
   "cell_type": "markdown",
   "metadata": {},
   "source": [
    "#### Define function to plot network graph with node color and size determined by degree and betweenness centrality of each node and edge color and size determined by the edge weights "
   ]
  },
  {
   "cell_type": "code",
   "execution_count": 11,
   "metadata": {},
   "outputs": [],
   "source": [
    "def plot_network(G):\n",
    "    import networkx as nx\n",
    "    import matplotlib.pyplot as plt\n",
    "    from matplotlib import cm\n",
    "    # function to rescale list of values to range [newmin,newmax]\n",
    "    def rescale(l,newmin,newmax):\n",
    "        arr = list(l)\n",
    "        return [(x-min(arr))/(max(arr)-min(arr))*(newmax-newmin)+newmin for x in arr]\n",
    "    # use the matplotlib plasma colormap\n",
    "    graph_colormap = cm.get_cmap('plasma', 12)\n",
    "    # node color varies with Degree\n",
    "    c = rescale([G.degree(v) for v in G],0.0,0.9) \n",
    "    c = [graph_colormap(i) for i in c]\n",
    "    # node size varies with betweeness centrality - map to range [10,100] \n",
    "    bc = nx.betweenness_centrality(G) # betweeness centrality\n",
    "    s =  rescale([v for v in bc.values()],1500,7000)\n",
    "    # edge width shows 1-weight to convert cost back to strength of interaction \n",
    "    ew = rescale([float(G[u][v]['weight']) for u,v in G.edges],0.1,4)\n",
    "    # edge color also shows weight\n",
    "    ec = rescale([float(G[u][v]['weight']) for u,v in G.edges],0.1,1)\n",
    "    ec = [graph_colormap(i) for i in ec]\n",
    "    pos = nx.spring_layout(G)\n",
    "    plt.figure(figsize=(19,9),facecolor=[0.7,0.7,0.7,0.4])\n",
    "    nx.draw_networkx(G, pos=pos, with_labels=True, node_color=c, node_size=s,edge_color= ec,width=ew,\n",
    "                 font_color='white',font_weight='bold',font_size='9')\n",
    "    plt.axis('off')\n",
    "    plt.show()"
   ]
  },
  {
   "cell_type": "code",
   "execution_count": 12,
   "metadata": {},
   "outputs": [
    {
     "data": {
      "image/png": "[encoded data removed]",
      "text/plain": [
       "<Figure size 1900x900 with 1 Axes>"
      ]
     },
     "metadata": {},
     "output_type": "display_data"
    }
   ],
   "source": [
    "plot_network(hodgkins_graph)"
   ]
  },
  {
   "cell_type": "markdown",
   "metadata": {},
   "source": [
    "### Karate Club\n",
    "___\n",
    "\n",
    "Karate Club is an unsupervised machine learning extension library for NetworkX. It provides network embedding techniques at the node and graph level and includes a variety of overlapping and non-overlapping community detection methods.\n",
    "\n",
    "There are many different embedding methods and tools in the karateclub package. As I starting point, I'll focus on:\n",
    "* **DeepWalk:** uses walks that enable the traversal of a graph by moving from one node to another, as long as they are connected to a common edge. If you represent each node in a graph with an arbitrary representation vector, you can traverse the graph. This vectorized format of the graph can then be fed into machine learning models as features.\n",
    "\n",
    "* **Node2Vec:** The difference between Node2vec and DeepWalk is subtle but significant. Node2vec features a walk bias variable α, which is parameterized by p and q. The parameter p prioritizes a breadth-first-search (BFS) procedure, while the parameter q prioritizes a depth-first-search (DFS) procedure. The decision of where to walk next is therefore influenced by probabilities 1/p or 1/q. BFS is ideal for learning local neighbors, while DFS is better for learning global variables.\n",
    "\n",
    "Some resources:\n",
    "\n",
    "https://karateclub.readthedocs.io/en/latest/modules/root.html\n",
    "\n",
    "https://towardsdatascience.com/overview-of-deep-learning-on-graph-embeddings-4305c10ad4a4\n",
    "\n",
    "\n",
    "___"
   ]
  },
  {
   "cell_type": "markdown",
   "metadata": {},
   "source": [
    "The karateclub tools require the nodes to be labeled numerically. The networkX graphs created from PPI data above have the nodes labeled as strings with the protein names."
   ]
  },
  {
   "cell_type": "markdown",
   "metadata": {},
   "source": [
    "#### Define function to reindex graph nodes to numeric for further processing such as embedding\n",
    "#### Also return list of original node names"
   ]
  },
  {
   "cell_type": "code",
   "execution_count": 13,
   "metadata": {},
   "outputs": [],
   "source": [
    "def reindex_graph(graph):\n",
    "    import networkx as nx\n",
    "    node_labels = graph.nodes\n",
    "    reindexed_graph = nx.relabel.convert_node_labels_to_integers(graph, first_label=0, ordering='default') #first_label is the starting integer label, in this case zero\n",
    "    return reindexed_graph, node_labels\n"
   ]
  },
  {
   "cell_type": "code",
   "execution_count": 14,
   "metadata": {},
   "outputs": [],
   "source": [
    "hodgkins_graph_reindexed, hodgkins_node_labels = reindex_graph(hodgkins_graph)"
   ]
  },
  {
   "cell_type": "code",
   "execution_count": 15,
   "metadata": {},
   "outputs": [
    {
     "name": "stdout",
     "output_type": "stream",
     "text": [
      "['TUBB1', 'TUBB2B', 'TUBB8', 'TUBB4A', 'TUBB3', 'TUBB2A', 'TUBB6', 'TUBB4B', 'TOP2A', 'TUBB']\n",
      "Graph named 'Protein Interaction Graph' with 10 nodes and 20 edges\n"
     ]
    }
   ],
   "source": [
    "print(hodgkins_node_labels)\n",
    "print(hodgkins_graph_reindexed)"
   ]
  },
  {
   "cell_type": "markdown",
   "metadata": {},
   "source": [
    "### Use KarateClub for graph embedding"
   ]
  },
  {
   "cell_type": "markdown",
   "metadata": {},
   "source": [
    "#### DeepWalk Embedding\n",
    "\n",
    "class DeepWalk(walk_number: int = 10, walk_length: int = 80, dimensions: int = 128, workers: int = 4, window_size: int = 5, epochs: int = 1, learning_rate: float = 0.05, min_count: int = 1, seed: int = 42)\n",
    "\n",
    "Parameters:\t\n",
    "walk_number (int) – Number of random walks. Default is 10.\n",
    "walk_length (int) – Length of random walks. Default is 80.\n",
    "dimensions (int) – Dimensionality of embedding. Default is 128.\n",
    "workers (int) – Number of cores. Default is 4.\n",
    "window_size (int) – Matrix power order. Default is 5.\n",
    "epochs (int) – Number of epochs. Default is 1.\n",
    "learning_rate (float) – HogWild! learning rate. Default is 0.05.\n",
    "min_count (int) – Minimal count of node occurrences. Default is 1.\n",
    "seed (int) – Random seed value. Default is 42."
   ]
  },
  {
   "cell_type": "code",
   "execution_count": 16,
   "metadata": {},
   "outputs": [
    {
     "name": "stdout",
     "output_type": "stream",
     "text": [
      "Shape: (10, 128)\n",
      "Sample of Matrix: [-0.14228547 -0.00896322 -0.08762524  0.1028519  -0.02074968 -0.03297928\n",
      " -0.04668228  0.06185214  0.0347222  -0.10761478]\n"
     ]
    }
   ],
   "source": [
    "from karateclub import DeepWalk\n",
    "\n",
    "model = DeepWalk()\n",
    "model.fit(hodgkins_graph_reindexed)\n",
    "deepwalk_embedding = model.get_embedding()\n",
    "\n",
    "print(\"Shape:\", deepwalk_embedding.shape)\n",
    "print(\"Sample of Matrix:\",deepwalk_embedding[0][0:10])"
   ]
  },
  {
   "cell_type": "markdown",
   "metadata": {},
   "source": [
    "### Node2Vec Embedding\n",
    "\n",
    "class Node2Vec(walk_number: int = 10, walk_length: int = 80, p: float = 1.0, q: float = 1.0, dimensions: int = 128, workers: int = 4, window_size: int = 5, epochs: int = 1, learning_rate: float = 0.05, min_count: int = 1, seed: int = 42)\n",
    "\n",
    "Parameters:\t\n",
    "walk_number (int) – Number of random walks. Default is 10.\n",
    "walk_length (int) – Length of random walks. Default is 80.\n",
    "p (float) – Return parameter (1/p transition probability) to move towards from previous node.\n",
    "q (float) – In-out parameter (1/q transition probability) to move away from previous node.\n",
    "dimensions (int) – Dimensionality of embedding. Default is 128.\n",
    "workers (int) – Number of cores. Default is 4.\n",
    "window_size (int) – Matrix power order. Default is 5.\n",
    "epochs (int) – Number of epochs. Default is 1.\n",
    "learning_rate (float) – HogWild! learning rate. Default is 0.05.\n",
    "min_count (int) – Minimal count of node occurrences. Default is 1.\n",
    "seed (int) – Random seed value. Default is 42."
   ]
  },
  {
   "cell_type": "code",
   "execution_count": 17,
   "metadata": {},
   "outputs": [
    {
     "name": "stdout",
     "output_type": "stream",
     "text": [
      "Shape: (10, 128)\n",
      "Sample of Matrix: [-0.04846295 -0.03372703 -0.06224592  0.05827096 -0.02755684 -0.12448519\n",
      " -0.0264236   0.06779189  0.04016348 -0.06927575]\n"
     ]
    }
   ],
   "source": [
    "from karateclub import Node2Vec\n",
    "\n",
    "model = Node2Vec(p=1, q=1)\n",
    "model.fit(hodgkins_graph_reindexed)\n",
    "Node2Vec_embedding1 = model.get_embedding()\n",
    "\n",
    "print(\"Shape:\", Node2Vec_embedding1.shape)\n",
    "print(\"Sample of Matrix:\",Node2Vec_embedding1[0][0:10])"
   ]
  },
  {
   "cell_type": "code",
   "execution_count": 18,
   "metadata": {},
   "outputs": [
    {
     "name": "stdout",
     "output_type": "stream",
     "text": [
      "Shape: (10, 128)\n",
      "Sample of Matrix: [ 0.00520798  0.03767336 -0.03813116  0.03180327 -0.07474633 -0.06668352\n",
      " -0.01272915  0.03998158  0.08866183 -0.14860283]\n"
     ]
    }
   ],
   "source": [
    "from karateclub import Node2Vec\n",
    "\n",
    "model = Node2Vec(p=1, q=0.2)\n",
    "model.fit(hodgkins_graph_reindexed)\n",
    "BFS_embedding = model.get_embedding()\n",
    "\n",
    "print(\"Shape:\", BFS_embedding.shape)\n",
    "print(\"Sample of Matrix:\",BFS_embedding[0][0:10])"
   ]
  },
  {
   "cell_type": "code",
   "execution_count": 19,
   "metadata": {},
   "outputs": [
    {
     "name": "stdout",
     "output_type": "stream",
     "text": [
      "Shape: (10, 128)\n",
      "Sample of Matrix: [-0.04846295 -0.03372703 -0.06224592  0.05827096 -0.02755684 -0.12448519\n",
      " -0.0264236   0.06779189  0.04016348 -0.06927575]\n"
     ]
    }
   ],
   "source": [
    "from karateclub import Node2Vec\n",
    "\n",
    "model = Node2Vec(p=0.2, q=1)\n",
    "model.fit(hodgkins_graph_reindexed)\n",
    "DFS_embedding = model.get_embedding()\n",
    "\n",
    "print(\"Shape:\", DFS_embedding.shape)\n",
    "print(\"Sample of Matrix:\",DFS_embedding[0][0:10])"
   ]
  },
  {
   "cell_type": "markdown",
   "metadata": {},
   "source": [
    "#### Further work to continue when details of the challenge and dataset are recieved"
   ]
  }
 ],
 "metadata": {
  "kernelspec": {
   "display_name": "Python 3.10.6",
   "language": "python",
   "name": "python3"
  },
  "language_info": {
   "codemirror_mode": {
    "name": "ipython",
    "version": 3
   },
   "file_extension": ".py",
   "mimetype": "text/x-python",
   "name": "python",
   "nbconvert_exporter": "python",
   "pygments_lexer": "ipython3",
   "version": "3.10.6"
  },
  "orig_nbformat": 4,
  "vscode": {
   "interpreter": {
    "hash": "81541a299b81f29589b5e56e87d069eed1fec5da974e18b275318e0c10d35d57"
   }
  }
 },
 "nbformat": 4,
 "nbformat_minor": 2
}
